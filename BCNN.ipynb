{
 "cells": [
  {
   "cell_type": "code",
   "execution_count": 1,
   "metadata": {
    "executionInfo": {
     "elapsed": 424,
     "status": "ok",
     "timestamp": 1686216932960,
     "user": {
      "displayName": "Nihad Qaragozlu",
      "userId": "13675033742642965403"
     },
     "user_tz": -180
    },
    "id": "qlLlfCYTXCzb"
   },
   "outputs": [],
   "source": [
    "import pandas as pd \n",
    "import numpy as np\n",
    "import copy\n",
    "from sklearn.preprocessing import StandardScaler\n",
    "from sklearn.metrics import classification_report, roc_auc_score, roc_curve, confusion_matrix\n",
    "from sklearn.model_selection import train_test_split"
   ]
  },
  {
   "cell_type": "code",
   "execution_count": 3,
   "metadata": {
    "id": "-kXPgZYoXHoM"
   },
   "outputs": [
    {
     "name": "stdout",
     "output_type": "stream",
     "text": [
      "<class 'pandas.core.frame.DataFrame'>\n",
      "RangeIndex: 303 entries, 0 to 302\n",
      "Data columns (total 14 columns):\n",
      " #   Column    Non-Null Count  Dtype  \n",
      "---  ------    --------------  -----  \n",
      " 0   age       303 non-null    int64  \n",
      " 1   sex       303 non-null    int64  \n",
      " 2   cp        303 non-null    int64  \n",
      " 3   trestbps  303 non-null    int64  \n",
      " 4   chol      303 non-null    int64  \n",
      " 5   fbs       303 non-null    int64  \n",
      " 6   restecg   303 non-null    int64  \n",
      " 7   thalach   303 non-null    int64  \n",
      " 8   exang     303 non-null    int64  \n",
      " 9   oldpeak   303 non-null    float64\n",
      " 10  slope     303 non-null    int64  \n",
      " 11  ca        303 non-null    int64  \n",
      " 12  thal      303 non-null    int64  \n",
      " 13  target    303 non-null    int64  \n",
      "dtypes: float64(1), int64(13)\n",
      "memory usage: 33.3 KB\n"
     ]
    }
   ],
   "source": [
    "df = pd.read_csv('Heart_disease_cleveland_new.csv')\n",
    "df.info()"
   ]
  },
  {
   "cell_type": "code",
   "execution_count": 4,
   "metadata": {},
   "outputs": [],
   "source": [
    "class BCNN:\n",
    "    def __init__(self, layers, epochs, verbose =True, learning_rate = 0.1, seed = 42):\n",
    "        np.random.seed(seed)\n",
    "        self.learning_rate = learning_rate\n",
    "        self.layers = layers\n",
    "        self.epochs = epochs\n",
    "        self.verbose = verbose\n",
    "        \n",
    "    def sigmoid(self, z):\n",
    "        return 1/(1+np.exp(-z))\n",
    "\n",
    "    def derivative_sigmoid(self, z):\n",
    "        return self.sigmoid(z) * (1 - self.sigmoid(z))\n",
    "\n",
    "    def cross_entropy_loss(self, y_true, y_pred):\n",
    "        y_pred = np.clip(y_pred, 1e-8, 1-1e-8)\n",
    "        return -np.mean(y_true * np.log(y_pred) + (1-y_true) * np.log(1-y_pred))\n",
    "\n",
    "    def forward(self, X):\n",
    "        self.linear_combinations = []\n",
    "        self.activations = []\n",
    "        \n",
    "        self.linear_combinations.append(np.dot(X, self.weights[0]) + self.biases[0])\n",
    "        self.activations.append(self.sigmoid(self.linear_combinations[0]))\n",
    "        \n",
    "        for i in range(len(self.layers)-1):\n",
    "            self.linear_combinations.append(np.dot(self.activations[i], self.weights[i+1]) + self.biases[i+1])\n",
    "            self.activations.append(self.sigmoid(self.linear_combinations[i+1]))\n",
    "\n",
    "        self.linear_combinations.append(np.dot(self.activations[-1], self.weights[-1]) + self.biases[-1])\n",
    "        self.activations.append(self.sigmoid(self.linear_combinations[-1]))\n",
    "\n",
    "        return self.activations[-1]\n",
    "\n",
    "    def backward(self, X, y):\n",
    "        m = X.shape[0]\n",
    "        self.deltas = []\n",
    "        dz = self.activations[-1] - y\n",
    "        dw = np.dot(self.activations[-2].T,dz)/m\n",
    "        db = np.sum(dz,axis = 0, keepdims = True)/m\n",
    "        self.deltas.append((dz,dw,db))\n",
    "\n",
    "        for i, (w,z,a) in enumerate(zip(self.weights[::-1][:-2],self.linear_combinations[::-1][1:-1], self.activations[::-1][2:])):\n",
    "            dz = np.dot(self.deltas[i][0], w.T) * self.derivative_sigmoid(z)\n",
    "            dw = np.dot(a.T, dz)/m\n",
    "            db = np.sum(dz,axis = 0, keepdims = True)/m\n",
    "            self.deltas.append((dz,dw,db))\n",
    "\n",
    "        dz = np.dot(self.deltas[-1][0], self.weights[1].T) * self.derivative_sigmoid(self.linear_combinations[0])\n",
    "        dw = np.dot(X.T,dz)/m\n",
    "        db = np.sum(dz,axis = 0, keepdims = True)/m\n",
    "        self.deltas.append((dz,dw,db))\n",
    "\n",
    "        for i,d in enumerate(self.deltas[::-1]):\n",
    "            self.weights[i] -= self.learning_rate * d[1]\n",
    "            self.biases[i] -= self.learning_rate * d[2]\n",
    "        \n",
    "    def fit(self, X, y):\n",
    "\n",
    "        self.weights = []\n",
    "        self.biases = []\n",
    "        \n",
    "        self.weights.append(np.random.randn(X.shape[1],self.layers[0]))\n",
    "        self.biases.append(np.zeros((1,self.layers[0])))\n",
    "        \n",
    "        for i in range(len(self.layers)-1):\n",
    "            self.weights.append(np.random.randn(self.layers[i],self.layers[i+1]))\n",
    "            self.biases.append(np.zeros((1,self.layers[i+1])))\n",
    "\n",
    "        self.weights.append(np.random.randn(self.layers[-1],1))\n",
    "        self.biases.append(np.zeros((1,1)))\n",
    "        \n",
    "        for epoch in range(self.epochs):\n",
    "            y_pred = self.forward(X)\n",
    "            loss = self.cross_entropy_loss(y, y_pred)\n",
    "            self.backward(X, y)\n",
    "            if self.verbose and epoch % 100 == 0:\n",
    "                print(f\"Epoch {epoch} - Loss: {loss:.4f}\")\n",
    "\n",
    "    def predict(self, X):\n",
    "        y_pred = self.forward(X)\n",
    "        return (y_pred > 0.5).astype(int)\n",
    "        "
   ]
  },
  {
   "cell_type": "code",
   "execution_count": 5,
   "metadata": {},
   "outputs": [],
   "source": [
    "X = df.iloc[:,:-1].values\n",
    "y = df.iloc[:,-1].values.reshape(-1, 1)"
   ]
  },
  {
   "cell_type": "code",
   "execution_count": 7,
   "metadata": {},
   "outputs": [
    {
     "name": "stdout",
     "output_type": "stream",
     "text": [
      "Epoch 0 - Loss: 0.7002\n",
      "Epoch 100 - Loss: 0.6345\n",
      "Epoch 200 - Loss: 0.5770\n",
      "Epoch 300 - Loss: 0.5107\n",
      "Epoch 400 - Loss: 0.4557\n",
      "Epoch 500 - Loss: 0.4175\n",
      "Epoch 600 - Loss: 0.3908\n",
      "Epoch 700 - Loss: 0.3708\n",
      "Epoch 800 - Loss: 0.3553\n",
      "Epoch 900 - Loss: 0.3434\n",
      "Epoch 1000 - Loss: 0.3337\n",
      "Epoch 1100 - Loss: 0.3255\n",
      "Epoch 1200 - Loss: 0.3178\n",
      "Epoch 1300 - Loss: 0.3103\n",
      "Epoch 1400 - Loss: 0.3027\n",
      "Epoch 1500 - Loss: 0.2947\n",
      "Epoch 1600 - Loss: 0.2864\n",
      "Epoch 1700 - Loss: 0.2782\n",
      "Epoch 1800 - Loss: 0.2702\n",
      "Epoch 1900 - Loss: 0.2626\n",
      "[[29  4]\n",
      " [ 2 26]]\n",
      "              precision    recall  f1-score   support\n",
      "\n",
      "           0       0.94      0.88      0.91        33\n",
      "           1       0.87      0.93      0.90        28\n",
      "\n",
      "    accuracy                           0.90        61\n",
      "   macro avg       0.90      0.90      0.90        61\n",
      "weighted avg       0.90      0.90      0.90        61\n",
      "\n"
     ]
    }
   ],
   "source": [
    "X_train, X_test, y_train, y_test = train_test_split(X, y, test_size=0.2, random_state=42, shuffle=True, stratify=y)\n",
    "\n",
    "scaler = StandardScaler()\n",
    "X_train_scaled = scaler.fit_transform(X_train)\n",
    "X_test_scaled = scaler.transform(X_test)\n",
    "\n",
    "bcnn = BCNN(layers = [10,7,4],epochs = 2000, verbose = True, learning_rate=0.1)\n",
    "bcnn.fit(X_train_scaled, y_train)\n",
    "\n",
    "y_pred = bcnn.predict(X_test_scaled)\n",
    "print(confusion_matrix(y_test, y_pred))\n",
    "print(classification_report(y_test, y_pred))"
   ]
  },
  {
   "cell_type": "code",
   "execution_count": null,
   "metadata": {},
   "outputs": [],
   "source": []
  }
 ],
 "metadata": {
  "colab": {
   "authorship_tag": "ABX9TyMrluBLbscGdBPKftWzjJBq",
   "mount_file_id": "1kDgnsTnQjUxoTSniaxkM5H_uVozJOd8U",
   "provenance": []
  },
  "kernelspec": {
   "display_name": "Python 3 (ipykernel)",
   "language": "python",
   "name": "python3"
  },
  "language_info": {
   "codemirror_mode": {
    "name": "ipython",
    "version": 3
   },
   "file_extension": ".py",
   "mimetype": "text/x-python",
   "name": "python",
   "nbconvert_exporter": "python",
   "pygments_lexer": "ipython3",
   "version": "3.10.0"
  }
 },
 "nbformat": 4,
 "nbformat_minor": 4
}
